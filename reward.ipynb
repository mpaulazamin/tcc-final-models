{
 "cells": [
  {
   "cell_type": "markdown",
   "id": "aa75b695",
   "metadata": {},
   "source": [
    "### Imports"
   ]
  },
  {
   "cell_type": "code",
   "execution_count": 1,
   "id": "804585f2",
   "metadata": {},
   "outputs": [
    {
     "name": "stderr",
     "output_type": "stream",
     "text": [
      "C:\\Users\\maria\\AppData\\Local\\Temp\\ipykernel_7912\\700012485.py:6: MatplotlibDeprecationWarning: The seaborn styles shipped by Matplotlib are deprecated since 3.6, as they no longer correspond to the styles shipped by seaborn. However, they will remain available as 'seaborn-v0_8-<style>'. Alternatively, directly use the seaborn API instead.\n",
      "  plt.style.use('seaborn-poster')\n"
     ]
    }
   ],
   "source": [
    "import numpy as np\n",
    "import matplotlib.pyplot as plt\n",
    "from mpl_toolkits import mplot3d\n",
    "import math\n",
    "from math import sqrt\n",
    "plt.style.use('seaborn-poster')"
   ]
  },
  {
   "cell_type": "markdown",
   "id": "adf4b0f1",
   "metadata": {},
   "source": [
    "### Custos máximos"
   ]
  },
  {
   "cell_type": "code",
   "execution_count": 3,
   "id": "c59bfe3c",
   "metadata": {},
   "outputs": [],
   "source": [
    "def custo_eletrico_banho(Sr, potencia_eletrica, custo_eletrico_kwh, dt):\n",
    "    \"\"\"Calcula o custo da parte elétrica do banho.\n",
    "\n",
    "    O custo da parte elétrica do banho é dado pela potência do chuveiro em KW multiplicado pela fração de utilização\n",
    "    da resistência elétrica Sr, o custo do kWh em reais, e o tempo do banho em horas. Como o tempo é em minutos, \n",
    "    divide-se por 60. Como a estratégia de controle utilizada foi split-range para Sr, o valor considerado no cálculo\n",
    "    para Sr será a área da curva (integral).\n",
    "\n",
    "    Argumentos:\n",
    "        Sr (float): Seletor da resistência elétrica do tanque de aquecimento.\n",
    "        potencial_eletrica (float): Potência elétrica do tanque de aquecimento (chuveiro) em kW.\n",
    "        custo_eletrico_kwh (float): Custo do kWh da energia em reais por hora.\n",
    "        dt (float): Passo de tempo.\n",
    "        \n",
    "    Retorna:\n",
    "        custo_eletrico_total (float): Custo da energia elétrica do banho em reais.\n",
    "    \"\"\"\n",
    "    Sr_utilizado = np.trapz(y=Sr, dx=dt)\n",
    "    custo_eletrico_total = potencia_eletrica * Sr_utilizado * custo_eletrico_kwh / 60\n",
    "\n",
    "    return custo_eletrico_total"
   ]
  },
  {
   "cell_type": "code",
   "execution_count": 7,
   "id": "1811bcf8",
   "metadata": {},
   "outputs": [
    {
     "name": "stdout",
     "output_type": "stream",
     "text": [
      "Custo elétrico do kWh: 1\n",
      "Custo elétrico máximo do banho: 1.2824166666666665\n",
      "\n",
      "Custo elétrico do kWh: 1.25\n",
      "Custo elétrico máximo do banho: 1.6030208333333331\n",
      "\n",
      "Custo elétrico do kWh: 1.5\n",
      "Custo elétrico máximo do banho: 1.923625\n",
      "\n",
      "Custo elétrico do kWh: 1.75\n",
      "Custo elétrico máximo do banho: 2.2442291666666665\n",
      "\n",
      "Custo elétrico do kWh: 2\n",
      "Custo elétrico máximo do banho: 2.564833333333333\n",
      "\n",
      "Custo elétrico do kWh: 2.25\n",
      "Custo elétrico máximo do banho: 2.8854374999999997\n",
      "\n"
     ]
    }
   ],
   "source": [
    "potencia_eletrica = 5.5\n",
    "custo_eletrico_kwh = 1, 1.25, 1.5, 1.75, 2, 2.25\n",
    "dt = 0.01\n",
    "Sr = np.repeat(1, 1400)\n",
    "\n",
    "for val in custo_eletrico_kwh:\n",
    "    custo_eletrico_max = custo_eletrico_banho(Sr, potencia_eletrica, val, dt)\n",
    "    print(f\"Custo elétrico do kWh: {val}\")\n",
    "    print(f\"Custo elétrico máximo do banho: {custo_eletrico_max}\")\n",
    "    print(\"\")"
   ]
  },
  {
   "cell_type": "code",
   "execution_count": 8,
   "id": "be53b99e",
   "metadata": {},
   "outputs": [],
   "source": [
    "def custo_gas_banho(Sa, potencia_aquecedor, custo_gas_kg, dt):\n",
    "    \"\"\"Calcula o custo do gás do banho.\n",
    "\n",
    "    A potência de um aquecedor a gás é dada em kcal/h. Considerando um rendimento de 86%, a potência últi será\n",
    "    a potência multiplicada pelo rendimento. Para saber quantas kcal são fornecidas durante o banho, multiplica-se\n",
    "    a potência útil pela quantidade de energia gasta de Sa (área da curva) e divide por 60 para tempo em horas.\n",
    "    O pode calorífico do gás GLP é de 11750 kcal/kg. Se multiplicarmos esse valor pela quantidade de kcal gasta no banho,\n",
    "    é possível obter a quantidade de gás em kg gasta no banho. Finalmente, o custo em reais é dado pela quantidade de gás em kg\n",
    "    multiplicada pelo custo do gás em kg/reais.\n",
    "    \n",
    "    Referências: \n",
    "        https://conteudos.rinnai.com.br/vazao-aquecedor-de-agua-a-gas/#:~:text=A%20pot%C3%AAncia%20do%20aquecedor%20%C3%A9,hora%20(kcal%2Fh)\n",
    "        https://www.supergasbras.com.br/super-blog/negocio/2021/qual-a-vantagem-do-poder-calorifico-do-glp#:~:text=GLP%3A%2011.750%20Kcal%2Fkg,G%C3%A1s%20Natural%3A%209.400%20Kcal%2Fm%C2%B3\n",
    "    \n",
    "    Argumentos:\n",
    "        Sa (float): selector do aquecimento do boiler.\n",
    "        potencial_aquecedor (float): Potência do aquecedor (boiler) em kcal/h.\n",
    "        custo_gas_kg (float): Custo do kg do gás em reais por kg.\n",
    "        tempo (float): Tempo da ação em minutos.\n",
    "        df (float): Passo de tempo da simulação.\n",
    "\n",
    "    Retorna:\n",
    "        custo_gas_total (float): Custo do gás do banho em reais.\n",
    "    \"\"\"\n",
    "    # Tempo em minutos que o aquecedor fica ligado (Sa = 1):\n",
    "    # numero_vezes_aquecedor_ligado = np.count_nonzero(Sa == 1) # integrar também?\n",
    "    # tempo_aquecedor_ligado = tempo * numero_vezes_aquecedor_ligado / (tempo / dt)\n",
    "\n",
    "    # Quantidade de Sa utilizado:\n",
    "    Sa_utilizado = np.trapz(y=Sa, dx=dt)\n",
    "\n",
    "    # Potência útil do aquecedor em kcal/h:\n",
    "    rendimento = 1\n",
    "    potencia_util = potencia_aquecedor * rendimento\n",
    "\n",
    "    # Quantidade de kcal fornecida durante o banho:\n",
    "    # kcal_fornecida_no_banho = potencia_util * tempo_aquecedor_ligado / 60\n",
    "    kcal_fornecida_no_banho = potencia_util * Sa_utilizado / 60\n",
    "\n",
    "    # Poder calorífico do gás em kcal/kg (GLP):\n",
    "    kg_equivalente_kcal = 11750 \n",
    "\n",
    "    # Quantidade de gás gasta durante o banho:\n",
    "    quantidade_gas_kg = kcal_fornecida_no_banho / kg_equivalente_kcal \n",
    "\n",
    "    # Custo do gás:\n",
    "    custo_gas_total = custo_gas_kg * quantidade_gas_kg\n",
    "\n",
    "    return custo_gas_total "
   ]
  },
  {
   "cell_type": "code",
   "execution_count": 11,
   "id": "fff78006",
   "metadata": {},
   "outputs": [
    {
     "data": {
      "text/plain": [
       "1.7264255319148933"
      ]
     },
     "execution_count": 11,
     "metadata": {},
     "output_type": "execute_result"
    }
   ],
   "source": [
    "potencia_aquecedor = 29000\n",
    "custo_gas_kg = 3\n",
    "dt = 0.01\n",
    "Sa = np.repeat(1, 1400)\n",
    "\n",
    "custo_gas_max = custo_gas_banho(Sa, potencia_aquecedor, custo_gas_kg, dt)\n",
    "custo_gas_max"
   ]
  },
  {
   "cell_type": "code",
   "execution_count": 12,
   "id": "c6b1ea58",
   "metadata": {},
   "outputs": [],
   "source": [
    "def modelo_valvula_saida(xs):\n",
    "    \"\"\"Modelo para a vazão válvula de saída (Fs).\n",
    "\n",
    "    Argumentos:\n",
    "        xs (float): Abertura da válvula de saída.\n",
    "\n",
    "    Retorna:\n",
    "        Fs (float): Vazão da válvula de saída.\n",
    "    \"\"\"\n",
    "    n = 5 * (xs ** 3) * (sqrt(30)) * sqrt(-15 * (xs ** 6) + sqrt(6625 * (xs ** 12) + 640 * (xs ** 6) + 16))\n",
    "    d = 20 * (xs ** 6) + 1\n",
    "\n",
    "    Fs = n / d\n",
    "    return Fs"
   ]
  },
  {
   "cell_type": "code",
   "execution_count": 13,
   "id": "da0e71fd",
   "metadata": {},
   "outputs": [],
   "source": [
    "def custo_agua_banho(Fs, custo_agua_m3, tempo):\n",
    "    \"\"\"Calcula o custo de água do banho.\n",
    "\n",
    "    A quantidade de litros gasta em um banho é dada pela vazão em L/min multiplicada pelo tempo em minutos do banho.\n",
    "    Depois, divide-se a quantidade de litros por 1000, para obter a quantidade em m3 gasta durante o banho.\n",
    "    Multiplicando esse valor pelo custo da água em m3/reais, obtém-se o custo em reais da água gasta durante o banho.\n",
    "\n",
    "    Argumentos:\n",
    "        xs (float): Vazão da válvula de saída.\n",
    "        custo_agua_m3 (float): Custo da água em m3 por reais. \n",
    "        tempo (float): Tempo da ação em minutos.\n",
    "\n",
    "    Retorna:\n",
    "        custo_agua_total: Custo da água do banho em reais.\n",
    "    \"\"\"\n",
    "    # integrar a vazão da água\n",
    "    custo_agua_total = ((Fs * tempo ) / 1000) * custo_agua_m3 \n",
    "\n",
    "    return custo_agua_total"
   ]
  },
  {
   "cell_type": "code",
   "execution_count": 14,
   "id": "deff6394",
   "metadata": {},
   "outputs": [
    {
     "data": {
      "text/plain": [
       "10.92317131464205"
      ]
     },
     "execution_count": 14,
     "metadata": {},
     "output_type": "execute_result"
    }
   ],
   "source": [
    "xs = 0.99\n",
    "Fs = modelo_valvula_saida(0.99)\n",
    "Fs"
   ]
  },
  {
   "cell_type": "code",
   "execution_count": 15,
   "id": "c96c2f6b",
   "metadata": {},
   "outputs": [
    {
     "data": {
      "text/plain": [
       "0.6116975936199548"
      ]
     },
     "execution_count": 15,
     "metadata": {},
     "output_type": "execute_result"
    }
   ],
   "source": [
    "custo_agua_m3 = 4\n",
    "tempo = 14\n",
    "\n",
    "custo_agua_max = custo_agua_banho(Fs, custo_agua_m3, tempo)\n",
    "custo_agua_max"
   ]
  },
  {
   "cell_type": "markdown",
   "id": "cbe319b2",
   "metadata": {},
   "source": [
    "### Recompensa"
   ]
  },
  {
   "cell_type": "code",
   "execution_count": 16,
   "id": "66a32147",
   "metadata": {},
   "outputs": [],
   "source": [
    "def calculo_iqb(Ts, Fs):\n",
    "    \"\"\"Calcula o índice de qualidade do banho (iqb).\n",
    "    \n",
    "    Argumentos:\n",
    "        Ts (float): Temperatura de saída do chuveiro.\n",
    "        Fs (float): Vazão da válvula de saída.\n",
    "\n",
    "    Retorna:\n",
    "        iqb (float): Índice de qualidade do banho.\n",
    "    \"\"\"\n",
    "    iqb = (1 / math.e) * math.exp((1 - ((Ts - 38 + 0.02 * Fs) / 2) ** 2) * np.power((0.506 + math.log10(math.log10((10000 * np.sqrt(Fs)) / (10 + Fs + 0.004 * np.power(Fs, 4))))), 20))\n",
    "\n",
    "    if np.isnan(iqb) or iqb == None or np.isinf(abs(iqb)) or iqb < 0:\n",
    "        iqb = 0\n",
    "    if iqb > 1:\n",
    "        iqb = 1\n",
    "        \n",
    "    return iqb"
   ]
  },
  {
   "cell_type": "code",
   "execution_count": 26,
   "id": "31973bdc",
   "metadata": {},
   "outputs": [],
   "source": [
    "def calculo_recompensa(Ts, Fs, Sr, Sa):\n",
    "    \n",
    "    iqb = calculo_iqb(Ts, Fs)\n",
    "    print(f\"IQB: {iqb}\")\n",
    "    \n",
    "    dt = 0.01\n",
    "    \n",
    "    potencia_eletrica = 5.5\n",
    "    custo_eletrico_kwh = 1\n",
    "    custo_eletrico = custo_eletrico_banho(Sr, potencia_eletrica, custo_eletrico_kwh, dt)\n",
    "    print(f\"Custo elétrico: {custo_eletrico}\")\n",
    "    \n",
    "    potencia_aquecedor = 29000\n",
    "    custo_gas_kg = 3\n",
    "    custo_gas = custo_gas_banho(Sa, potencia_aquecedor, custo_gas_kg, dt)\n",
    "    print(f\"Custo gás: {custo_gas}\")\n",
    "    \n",
    "    custo_agua_m3 = 4\n",
    "    tempo = 2\n",
    "    custo_agua = custo_agua_banho(Fs, custo_agua_m3, tempo)\n",
    "    print(f\"Custo água: {custo_agua}\")\n",
    "    \n",
    "    reward = 5 * iqb - 2 * custo_eletrico - custo_gas - custo_agua\n",
    "    print(f\"Recompensa: {reward}\")\n",
    "    print(\"\")"
   ]
  },
  {
   "cell_type": "code",
   "execution_count": 27,
   "id": "69801c48",
   "metadata": {},
   "outputs": [
    {
     "name": "stdout",
     "output_type": "stream",
     "text": [
      "IQB: 0.9583508400688454\n",
      "Custo elétrico: 0.09120833333333332\n",
      "Custo gás: 0.12278723404255319\n",
      "Custo água: 0.036\n",
      "Recompensa: 4.450550299635008\n",
      "\n",
      "IQB: 0.9583508400688454\n",
      "Custo elétrico: 0.10037499999999998\n",
      "Custo gás: 0.13512765957446804\n",
      "Custo água: 0.036\n",
      "Recompensa: 4.41987654076976\n",
      "\n",
      "IQB: 0.9583508400688454\n",
      "Custo elétrico: 0.10954166666666665\n",
      "Custo gás: 0.14746808510638296\n",
      "Custo água: 0.036\n",
      "Recompensa: 4.389202781904511\n",
      "\n",
      "IQB: 0.9583508400688454\n",
      "Custo elétrico: 0.11870833333333333\n",
      "Custo gás: 0.15980851063829787\n",
      "Custo água: 0.036\n",
      "Recompensa: 4.358529023039264\n",
      "\n",
      "IQB: 0.9583508400688454\n",
      "Custo elétrico: 0.12787500000000002\n",
      "Custo gás: 0.17214893617021276\n",
      "Custo água: 0.036\n",
      "Recompensa: 4.327855264174016\n",
      "\n",
      "IQB: 0.9583508400688454\n",
      "Custo elétrico: 0.13704166666666667\n",
      "Custo gás: 0.18448936170212765\n",
      "Custo água: 0.036\n",
      "Recompensa: 4.2971815053087665\n",
      "\n",
      "IQB: 0.9583508400688454\n",
      "Custo elétrico: 0.14620833333333333\n",
      "Custo gás: 0.19682978723404254\n",
      "Custo água: 0.036\n",
      "Recompensa: 4.266507746443518\n",
      "\n",
      "IQB: 0.9583508400688454\n",
      "Custo elétrico: 0.15537499999999999\n",
      "Custo gás: 0.20917021276595743\n",
      "Custo água: 0.036\n",
      "Recompensa: 4.235833987578271\n",
      "\n",
      "IQB: 0.9583508400688454\n",
      "Custo elétrico: 0.16454166666666664\n",
      "Custo gás: 0.22151063829787232\n",
      "Custo água: 0.036\n",
      "Recompensa: 4.205160228713022\n",
      "\n",
      "IQB: 0.9583508400688454\n",
      "Custo elétrico: 0.1737083333333333\n",
      "Custo gás: 0.23385106382978715\n",
      "Custo água: 0.036\n",
      "Recompensa: 4.174486469847774\n",
      "\n",
      "IQB: 0.9583508400688454\n",
      "Custo elétrico: 0.18241666666666664\n",
      "Custo gás: 0.24557446808510638\n",
      "Custo água: 0.036\n",
      "Recompensa: 4.145346398925788\n",
      "\n"
     ]
    }
   ],
   "source": [
    "for i in range(0, 11):\n",
    "    Ts = 37.5\n",
    "    Fs = 4.5\n",
    "    Sr1 = np.repeat(1, 100 + 10 * i)\n",
    "    Sr2 = np.repeat(0, 100 - 10 * i)\n",
    "    Sr = np.concatenate((Sr1, Sr2), axis=None)\n",
    "    Sa1 = np.repeat(1, 100 + 10 * i)\n",
    "    Sa2 = np.repeat(0, 100 - 10 * i)\n",
    "    Sa = np.concatenate((Sa1, Sa2), axis=None)\n",
    "    \n",
    "    calculo_recompensa(Ts, Fs, Sr, Sa)"
   ]
  },
  {
   "cell_type": "code",
   "execution_count": 28,
   "id": "ac6a2825",
   "metadata": {},
   "outputs": [
    {
     "name": "stdout",
     "output_type": "stream",
     "text": [
      "IQB: 0.12046175941538041\n",
      "Custo elétrico: 0.09120833333333332\n",
      "Custo gás: 0.12278723404255319\n",
      "Custo água: 0.036\n",
      "Recompensa: 0.26110489636768225\n",
      "\n",
      "IQB: 0.12046175941538041\n",
      "Custo elétrico: 0.10037499999999998\n",
      "Custo gás: 0.13512765957446804\n",
      "Custo água: 0.036\n",
      "Recompensa: 0.23043113750243407\n",
      "\n",
      "IQB: 0.12046175941538041\n",
      "Custo elétrico: 0.10954166666666665\n",
      "Custo gás: 0.14746808510638296\n",
      "Custo água: 0.036\n",
      "Recompensa: 0.19975737863718585\n",
      "\n",
      "IQB: 0.12046175941538041\n",
      "Custo elétrico: 0.11870833333333333\n",
      "Custo gás: 0.15980851063829787\n",
      "Custo água: 0.036\n",
      "Recompensa: 0.16908361977193756\n",
      "\n",
      "IQB: 0.12046175941538041\n",
      "Custo elétrico: 0.12787500000000002\n",
      "Custo gás: 0.17214893617021276\n",
      "Custo água: 0.036\n",
      "Recompensa: 0.1384098609066893\n",
      "\n",
      "IQB: 0.12046175941538041\n",
      "Custo elétrico: 0.13704166666666667\n",
      "Custo gás: 0.18448936170212765\n",
      "Custo água: 0.036\n",
      "Recompensa: 0.1077361020414411\n",
      "\n",
      "IQB: 0.12046175941538041\n",
      "Custo elétrico: 0.14620833333333333\n",
      "Custo gás: 0.19682978723404254\n",
      "Custo água: 0.036\n",
      "Recompensa: 0.0770623431761929\n",
      "\n",
      "IQB: 0.12046175941538041\n",
      "Custo elétrico: 0.15537499999999999\n",
      "Custo gás: 0.20917021276595743\n",
      "Custo água: 0.036\n",
      "Recompensa: 0.046388584310944704\n",
      "\n",
      "IQB: 0.12046175941538041\n",
      "Custo elétrico: 0.16454166666666664\n",
      "Custo gás: 0.22151063829787232\n",
      "Custo água: 0.036\n",
      "Recompensa: 0.015714825445696502\n",
      "\n",
      "IQB: 0.12046175941538041\n",
      "Custo elétrico: 0.1737083333333333\n",
      "Custo gás: 0.23385106382978715\n",
      "Custo água: 0.036\n",
      "Recompensa: -0.014958933419551644\n",
      "\n",
      "IQB: 0.12046175941538041\n",
      "Custo elétrico: 0.18241666666666664\n",
      "Custo gás: 0.24557446808510638\n",
      "Custo água: 0.036\n",
      "Recompensa: -0.044099004341537566\n",
      "\n"
     ]
    }
   ],
   "source": [
    "for i in range(0, 11):\n",
    "    Ts = 35\n",
    "    Fs = 4.5\n",
    "    Sr1 = np.repeat(1, 100 + 10 * i)\n",
    "    Sr2 = np.repeat(0, 100 - 10 * i)\n",
    "    Sr = np.concatenate((Sr1, Sr2), axis=None)\n",
    "    Sa1 = np.repeat(1, 100 + 10 * i)\n",
    "    Sa2 = np.repeat(0, 100 - 10 * i)\n",
    "    Sa = np.concatenate((Sa1, Sa2), axis=None)\n",
    "    \n",
    "    calculo_recompensa(Ts, Fs, Sr, Sa)"
   ]
  },
  {
   "cell_type": "code",
   "execution_count": 29,
   "id": "b84e576e",
   "metadata": {},
   "outputs": [
    {
     "name": "stdout",
     "output_type": "stream",
     "text": [
      "IQB: 0.9974403748301958\n",
      "Custo elétrico: 0.09120833333333332\n",
      "Custo gás: 0.12278723404255319\n",
      "Custo água: 0.036\n",
      "Recompensa: 4.64599797344176\n",
      "\n",
      "IQB: 0.9974403748301958\n",
      "Custo elétrico: 0.10037499999999998\n",
      "Custo gás: 0.13512765957446804\n",
      "Custo água: 0.036\n",
      "Recompensa: 4.615324214576511\n",
      "\n",
      "IQB: 0.9974403748301958\n",
      "Custo elétrico: 0.10954166666666665\n",
      "Custo gás: 0.14746808510638296\n",
      "Custo água: 0.036\n",
      "Recompensa: 4.584650455711263\n",
      "\n",
      "IQB: 0.9974403748301958\n",
      "Custo elétrico: 0.11870833333333333\n",
      "Custo gás: 0.15980851063829787\n",
      "Custo água: 0.036\n",
      "Recompensa: 4.553976696846015\n",
      "\n",
      "IQB: 0.9974403748301958\n",
      "Custo elétrico: 0.12787500000000002\n",
      "Custo gás: 0.17214893617021276\n",
      "Custo água: 0.036\n",
      "Recompensa: 4.523302937980767\n",
      "\n",
      "IQB: 0.9974403748301958\n",
      "Custo elétrico: 0.13704166666666667\n",
      "Custo gás: 0.18448936170212765\n",
      "Custo água: 0.036\n",
      "Recompensa: 4.492629179115518\n",
      "\n",
      "IQB: 0.9974403748301958\n",
      "Custo elétrico: 0.14620833333333333\n",
      "Custo gás: 0.19682978723404254\n",
      "Custo água: 0.036\n",
      "Recompensa: 4.46195542025027\n",
      "\n",
      "IQB: 0.9974403748301958\n",
      "Custo elétrico: 0.15537499999999999\n",
      "Custo gás: 0.20917021276595743\n",
      "Custo água: 0.036\n",
      "Recompensa: 4.4312816613850226\n",
      "\n",
      "IQB: 0.9974403748301958\n",
      "Custo elétrico: 0.16454166666666664\n",
      "Custo gás: 0.22151063829787232\n",
      "Custo água: 0.036\n",
      "Recompensa: 4.4006079025197735\n",
      "\n",
      "IQB: 0.9974403748301958\n",
      "Custo elétrico: 0.1737083333333333\n",
      "Custo gás: 0.23385106382978715\n",
      "Custo água: 0.036\n",
      "Recompensa: 4.369934143654525\n",
      "\n",
      "IQB: 0.9974403748301958\n",
      "Custo elétrico: 0.18241666666666664\n",
      "Custo gás: 0.24557446808510638\n",
      "Custo água: 0.036\n",
      "Recompensa: 4.34079407273254\n",
      "\n"
     ]
    }
   ],
   "source": [
    "for i in range(0, 11):\n",
    "    Ts = 38\n",
    "    Fs = 4.5\n",
    "    Sr1 = np.repeat(1, 100 + 10 * i)\n",
    "    Sr2 = np.repeat(0, 100 - 10 * i)\n",
    "    Sr = np.concatenate((Sr1, Sr2), axis=None)\n",
    "    Sa1 = np.repeat(1, 100 + 10 * i)\n",
    "    Sa2 = np.repeat(0, 100 - 10 * i)\n",
    "    Sa = np.concatenate((Sa1, Sa2), axis=None)\n",
    "    \n",
    "    calculo_recompensa(Ts, Fs, Sr, Sa)"
   ]
  },
  {
   "cell_type": "code",
   "execution_count": null,
   "id": "ed733b3d",
   "metadata": {},
   "outputs": [],
   "source": []
  }
 ],
 "metadata": {
  "kernelspec": {
   "display_name": "Python 3 (ipykernel)",
   "language": "python",
   "name": "python3"
  },
  "language_info": {
   "codemirror_mode": {
    "name": "ipython",
    "version": 3
   },
   "file_extension": ".py",
   "mimetype": "text/x-python",
   "name": "python",
   "nbconvert_exporter": "python",
   "pygments_lexer": "ipython3",
   "version": "3.8.16"
  }
 },
 "nbformat": 4,
 "nbformat_minor": 5
}
